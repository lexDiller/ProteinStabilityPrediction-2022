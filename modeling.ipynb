{
 "cells": [
  {
   "cell_type": "code",
   "execution_count": 235,
   "id": "44366d1f",
   "metadata": {},
   "outputs": [],
   "source": [
    "import pandas as pd\n",
    "import xgboost as xgb\n",
    "import matplotlib.pyplot as plt\n",
    "import lightgbm as lgb\n",
    "\n",
    "from sklearn.model_selection import train_test_split\n",
    "from sklearn.linear_model import LinearRegression\n",
    "from sklearn.metrics import mean_squared_error, mean_absolute_error\n",
    "from sklearn.preprocessing import OneHotEncoder\n",
    "\n",
    "import statsmodels.api as sm\n",
    "from statsmodels.stats.outliers_influence import variance_inflation_factor\n",
    "\n",
    "%matplotlib inline"
   ]
  },
  {
   "cell_type": "markdown",
   "id": "b030a03e",
   "metadata": {},
   "source": [
    "## Model train"
   ]
  },
  {
   "cell_type": "code",
   "execution_count": 236,
   "id": "b493dfda",
   "metadata": {},
   "outputs": [],
   "source": [
    "df = pd.read_csv('clean_train_data.csv')"
   ]
  },
  {
   "cell_type": "code",
   "execution_count": 237,
   "id": "f1a170a1",
   "metadata": {},
   "outputs": [
    {
     "data": {
      "text/plain": [
       "array([ 5,  9, 34, 28, 51, 50, 57], dtype=int64)"
      ]
     },
     "execution_count": 237,
     "metadata": {},
     "output_type": "execute_result"
    }
   ],
   "source": [
    "df['group2'].unique()"
   ]
  },
  {
   "cell_type": "code",
   "execution_count": 238,
   "id": "3a64e573",
   "metadata": {},
   "outputs": [],
   "source": [
    "train = df.query('group1 in [5, 9, 34, 28, 51]')\n",
    "validate = df.query('group1 == 50')\n",
    "test = df.query('group1 == 57')"
   ]
  },
  {
   "cell_type": "code",
   "execution_count": 239,
   "id": "eb77e8bc",
   "metadata": {},
   "outputs": [],
   "source": [
    "features = ['position1', 'pH1', 'change1', 'change2']\n",
    "cat_features = ['change1', 'change2']"
   ]
  },
  {
   "cell_type": "code",
   "execution_count": 240,
   "id": "708bbe7b",
   "metadata": {},
   "outputs": [
    {
     "name": "stderr",
     "output_type": "stream",
     "text": [
      "C:\\Users\\Acer\\AppData\\Local\\Temp\\ipykernel_12208\\2506013787.py:2: SettingWithCopyWarning: \n",
      "A value is trying to be set on a copy of a slice from a DataFrame.\n",
      "Try using .loc[row_indexer,col_indexer] = value instead\n",
      "\n",
      "See the caveats in the documentation: https://pandas.pydata.org/pandas-docs/stable/user_guide/indexing.html#returning-a-view-versus-a-copy\n",
      "  train[i] = pd.Categorical(train[i])\n",
      "C:\\Users\\Acer\\AppData\\Local\\Temp\\ipykernel_12208\\2506013787.py:3: SettingWithCopyWarning: \n",
      "A value is trying to be set on a copy of a slice from a DataFrame.\n",
      "Try using .loc[row_indexer,col_indexer] = value instead\n",
      "\n",
      "See the caveats in the documentation: https://pandas.pydata.org/pandas-docs/stable/user_guide/indexing.html#returning-a-view-versus-a-copy\n",
      "  validate[i] = pd.Categorical(validate[i])\n",
      "C:\\Users\\Acer\\AppData\\Local\\Temp\\ipykernel_12208\\2506013787.py:4: SettingWithCopyWarning: \n",
      "A value is trying to be set on a copy of a slice from a DataFrame.\n",
      "Try using .loc[row_indexer,col_indexer] = value instead\n",
      "\n",
      "See the caveats in the documentation: https://pandas.pydata.org/pandas-docs/stable/user_guide/indexing.html#returning-a-view-versus-a-copy\n",
      "  test[i] = pd.Categorical(test[i])\n"
     ]
    }
   ],
   "source": [
    "for i in cat_features:\n",
    "        train[i] = pd.Categorical(train[i])\n",
    "        validate[i] = pd.Categorical(validate[i])  \n",
    "        test[i] = pd.Categorical(test[i])"
   ]
  },
  {
   "cell_type": "code",
   "execution_count": 241,
   "id": "18421576",
   "metadata": {},
   "outputs": [
    {
     "name": "stderr",
     "output_type": "stream",
     "text": [
      "C:\\Users\\Acer\\anaconda3\\lib\\site-packages\\lightgbm\\engine.py:181: UserWarning: 'early_stopping_rounds' argument is deprecated and will be removed in a future release of LightGBM. Pass 'early_stopping()' callback via 'callbacks' argument instead.\n",
      "  _log_warning(\"'early_stopping_rounds' argument is deprecated and will be removed in a future release of LightGBM. \"\n",
      "C:\\Users\\Acer\\anaconda3\\lib\\site-packages\\lightgbm\\engine.py:239: UserWarning: 'verbose_eval' argument is deprecated and will be removed in a future release of LightGBM. Pass 'log_evaluation()' callback via 'callbacks' argument instead.\n",
      "  _log_warning(\"'verbose_eval' argument is deprecated and will be removed in a future release of LightGBM. \"\n",
      "C:\\Users\\Acer\\anaconda3\\lib\\site-packages\\lightgbm\\basic.py:1780: UserWarning: Overriding the parameters from Reference Dataset.\n",
      "  _log_warning('Overriding the parameters from Reference Dataset.')\n",
      "C:\\Users\\Acer\\anaconda3\\lib\\site-packages\\lightgbm\\basic.py:1513: UserWarning: categorical_column in param dict is overridden.\n",
      "  _log_warning(f'{cat_alias} in param dict is overridden.')\n"
     ]
    }
   ],
   "source": [
    "lgb_train = lgb.Dataset(train[features], label=train.target)\n",
    "lgb_eval = lgb.Dataset(validate[features], label=validate.target)\n",
    "\n",
    "params = {\n",
    "        'boosting_type': 'gbdt',\n",
    "        'objective': 'mse',\n",
    "        'metric': 'l2',\n",
    "        'learning_rate': 0.1,\n",
    "        'verbose': -1,\n",
    "        }\n",
    "model = lgb.train(params,\n",
    "                  lgb_train,\n",
    "                  num_boost_round=1000,\n",
    "                  valid_sets=lgb_eval,\n",
    "                  early_stopping_rounds=20,\n",
    "                  verbose_eval=False\n",
    "                 )\n",
    "\n"
   ]
  },
  {
   "cell_type": "code",
   "execution_count": 242,
   "id": "5a5f6e32",
   "metadata": {},
   "outputs": [
    {
     "data": {
      "text/plain": [
       "defaultdict(collections.OrderedDict,\n",
       "            {'valid_0': OrderedDict([('l1', 4.155891763340033)])})"
      ]
     },
     "execution_count": 242,
     "metadata": {},
     "output_type": "execute_result"
    }
   ],
   "source": [
    "model.best_score"
   ]
  },
  {
   "cell_type": "code",
   "execution_count": 243,
   "id": "335a4f9e",
   "metadata": {},
   "outputs": [
    {
     "name": "stdout",
     "output_type": "stream",
     "text": [
      "-0.03152180436075196\n"
     ]
    },
    {
     "name": "stderr",
     "output_type": "stream",
     "text": [
      "C:\\Users\\Acer\\AppData\\Local\\Temp\\ipykernel_12208\\1068502593.py:1: SettingWithCopyWarning: \n",
      "A value is trying to be set on a copy of a slice from a DataFrame.\n",
      "Try using .loc[row_indexer,col_indexer] = value instead\n",
      "\n",
      "See the caveats in the documentation: https://pandas.pydata.org/pandas-docs/stable/user_guide/indexing.html#returning-a-view-versus-a-copy\n",
      "  test['predict'] = model.predict(test[features])\n",
      "C:\\Users\\Acer\\AppData\\Local\\Temp\\ipykernel_12208\\1068502593.py:2: SettingWithCopyWarning: \n",
      "A value is trying to be set on a copy of a slice from a DataFrame.\n",
      "Try using .loc[row_indexer,col_indexer] = value instead\n",
      "\n",
      "See the caveats in the documentation: https://pandas.pydata.org/pandas-docs/stable/user_guide/indexing.html#returning-a-view-versus-a-copy\n",
      "  test['error'] = test['predict'] - test['target']\n"
     ]
    }
   ],
   "source": [
    "test['predict'] = model.predict(test[features])\n",
    "test['error'] = test['predict'] - test['target']\n",
    "print(test['error'].mean())"
   ]
  },
  {
   "cell_type": "markdown",
   "id": "9eb1fba9",
   "metadata": {},
   "source": [
    "## Creating submission"
   ]
  },
  {
   "cell_type": "code",
   "execution_count": 244,
   "id": "0dc6751c",
   "metadata": {},
   "outputs": [],
   "source": [
    "test_data = pd.read_csv('test.csv')"
   ]
  },
  {
   "cell_type": "code",
   "execution_count": 245,
   "id": "7e4fd0d7",
   "metadata": {},
   "outputs": [],
   "source": [
    "base = 'VPVNPEPDATSVENVALKTGSGDSQSDPIKADLEVKGQSALPFDVDCWAILCKGAPNVLQRVNEKTKNSNRDRSGANKGPFKDPQKWGIKALPPKNPSWSAQDFKSPEEYAFASSLQGGTNAILAPVNLASQNSQGGVLNGFYSANKVAQFDPSKPQQTKGTWFQITKFTGAAGPYCKALGSNDKSVCDKNKNIAGDWGFDPAKWAYQYDEKNNKFNYVGK'"
   ]
  },
  {
   "cell_type": "code",
   "execution_count": 246,
   "id": "035d4a6f",
   "metadata": {},
   "outputs": [],
   "source": [
    "def compare(base, y):\n",
    "    for idx, [c1, c2] in enumerate(zip(base, y)):\n",
    "        if c1 != c2:\n",
    "            return int(idx), c1, c2\n",
    "    return None, None, None"
   ]
  },
  {
   "cell_type": "code",
   "execution_count": 247,
   "id": "a384b028",
   "metadata": {},
   "outputs": [],
   "source": [
    "position = []\n",
    "change1 = []\n",
    "change2 = []\n",
    "\n",
    "\n",
    "for row in test_data.iterrows():\n",
    "    row_clean = row[1]\n",
    "    if len(base) == len(row_clean['protein_sequence']):\n",
    "        pos, ch1, ch2 = compare(base, row_clean['protein_sequence'])\n",
    "        position.append(pos)\n",
    "        change1.append(ch1)\n",
    "        change2.append(ch2)\n",
    "    else:\n",
    "        position.append(None)\n",
    "        change1.append(None)\n",
    "        change2.append(None)\n",
    "\n",
    "test_data['position1'] = position\n",
    "test_data['change1'] = change1\n",
    "test_data['change2'] = change2"
   ]
  },
  {
   "cell_type": "code",
   "execution_count": 249,
   "id": "45a82df7",
   "metadata": {},
   "outputs": [],
   "source": [
    "for i in cat_features:\n",
    "    test_data[i] = pd.Categorical(test_data[i])\n",
    "    \n",
    "test_data.rename(columns={'pH': 'pH1'}, inplace=True)\n",
    "test_data['tm'] = None\n",
    "test_data.loc[~test_data['change1'].isna(), 'tm'] = model.predict(test_data[features].dropna())\n",
    "test_data.loc[test_data['change1'].isna(), 'tm'] = 0"
   ]
  },
  {
   "cell_type": "code",
   "execution_count": 250,
   "id": "36a6ff83",
   "metadata": {},
   "outputs": [],
   "source": [
    "test_data[['seq_id', 'tm']].to_csv('submission.csv', index=False) "
   ]
  }
 ],
 "metadata": {
  "kernelspec": {
   "display_name": "Python 3 (ipykernel)",
   "language": "python",
   "name": "python3"
  },
  "language_info": {
   "codemirror_mode": {
    "name": "ipython",
    "version": 3
   },
   "file_extension": ".py",
   "mimetype": "text/x-python",
   "name": "python",
   "nbconvert_exporter": "python",
   "pygments_lexer": "ipython3",
   "version": "3.9.12"
  }
 },
 "nbformat": 4,
 "nbformat_minor": 5
}
