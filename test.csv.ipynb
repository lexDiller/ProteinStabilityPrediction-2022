{
 "cells": [
  {
   "cell_type": "code",
   "execution_count": 58,
   "id": "f564ca45",
   "metadata": {},
   "outputs": [],
   "source": [
    "import pandas as pd\n",
    "import matplotlib.pyplot as plt\n",
    "import seaborn as sns\n",
    "import numpy as np\n",
    "\n",
    "from fuzzywuzzy import fuzz\n",
    "from fuzzywuzzy import process\n",
    "\n"
   ]
  },
  {
   "cell_type": "code",
   "execution_count": 28,
   "id": "9bf2232a",
   "metadata": {},
   "outputs": [],
   "source": [
    "df = pd.read_csv('test.csv', encoding='windows-1251', sep=',')\n",
    "original = 'VPVNPEPDATSVENVALKTGSGDSQSDPIKADLEVKGQSALPFDVDCWAILCKGAPNVLQRVNEKTKNSNRDRSGANKGPFKDPQKWGIKALPPKNPSWSAQDFKSPEEYAFASSLQGGTNAILAPVNLASQNSQGGVLNGFYSANKVAQFDPSKPQQTKGTWFQITKFTGAAGPYCKALGSNDKSVCDKNKNIAGDWGFDPAKWAYQYDEKNNKFNYVGK'"
   ]
  },
  {
   "cell_type": "code",
   "execution_count": 29,
   "id": "25b55e82",
   "metadata": {},
   "outputs": [
    {
     "data": {
      "text/html": [
       "<div>\n",
       "<style scoped>\n",
       "    .dataframe tbody tr th:only-of-type {\n",
       "        vertical-align: middle;\n",
       "    }\n",
       "\n",
       "    .dataframe tbody tr th {\n",
       "        vertical-align: top;\n",
       "    }\n",
       "\n",
       "    .dataframe thead th {\n",
       "        text-align: right;\n",
       "    }\n",
       "</style>\n",
       "<table border=\"1\" class=\"dataframe\">\n",
       "  <thead>\n",
       "    <tr style=\"text-align: right;\">\n",
       "      <th></th>\n",
       "      <th>seq_id</th>\n",
       "      <th>protein_sequence</th>\n",
       "      <th>pH</th>\n",
       "      <th>data_source</th>\n",
       "    </tr>\n",
       "  </thead>\n",
       "  <tbody>\n",
       "    <tr>\n",
       "      <th>0</th>\n",
       "      <td>31390</td>\n",
       "      <td>VPVNPEPDATSVENVAEKTGSGDSQSDPIKADLEVKGQSALPFDVD...</td>\n",
       "      <td>8</td>\n",
       "      <td>Novozymes</td>\n",
       "    </tr>\n",
       "    <tr>\n",
       "      <th>1</th>\n",
       "      <td>31391</td>\n",
       "      <td>VPVNPEPDATSVENVAKKTGSGDSQSDPIKADLEVKGQSALPFDVD...</td>\n",
       "      <td>8</td>\n",
       "      <td>Novozymes</td>\n",
       "    </tr>\n",
       "    <tr>\n",
       "      <th>2</th>\n",
       "      <td>31392</td>\n",
       "      <td>VPVNPEPDATSVENVAKTGSGDSQSDPIKADLEVKGQSALPFDVDC...</td>\n",
       "      <td>8</td>\n",
       "      <td>Novozymes</td>\n",
       "    </tr>\n",
       "    <tr>\n",
       "      <th>3</th>\n",
       "      <td>31393</td>\n",
       "      <td>VPVNPEPDATSVENVALCTGSGDSQSDPIKADLEVKGQSALPFDVD...</td>\n",
       "      <td>8</td>\n",
       "      <td>Novozymes</td>\n",
       "    </tr>\n",
       "    <tr>\n",
       "      <th>4</th>\n",
       "      <td>31394</td>\n",
       "      <td>VPVNPEPDATSVENVALFTGSGDSQSDPIKADLEVKGQSALPFDVD...</td>\n",
       "      <td>8</td>\n",
       "      <td>Novozymes</td>\n",
       "    </tr>\n",
       "  </tbody>\n",
       "</table>\n",
       "</div>"
      ],
      "text/plain": [
       "   seq_id                                   protein_sequence  pH data_source\n",
       "0   31390  VPVNPEPDATSVENVAEKTGSGDSQSDPIKADLEVKGQSALPFDVD...   8   Novozymes\n",
       "1   31391  VPVNPEPDATSVENVAKKTGSGDSQSDPIKADLEVKGQSALPFDVD...   8   Novozymes\n",
       "2   31392  VPVNPEPDATSVENVAKTGSGDSQSDPIKADLEVKGQSALPFDVDC...   8   Novozymes\n",
       "3   31393  VPVNPEPDATSVENVALCTGSGDSQSDPIKADLEVKGQSALPFDVD...   8   Novozymes\n",
       "4   31394  VPVNPEPDATSVENVALFTGSGDSQSDPIKADLEVKGQSALPFDVD...   8   Novozymes"
      ]
     },
     "execution_count": 29,
     "metadata": {},
     "output_type": "execute_result"
    }
   ],
   "source": [
    "df.head()"
   ]
  },
  {
   "cell_type": "code",
   "execution_count": 30,
   "id": "8f9778a6",
   "metadata": {},
   "outputs": [
    {
     "data": {
      "text/plain": [
       "0       VPVNPEPDATSVENVAEKTGSGDSQSDPIKADLEVKGQSALPFDVD...\n",
       "1       VPVNPEPDATSVENVAKKTGSGDSQSDPIKADLEVKGQSALPFDVD...\n",
       "2       VPVNPEPDATSVENVAKTGSGDSQSDPIKADLEVKGQSALPFDVDC...\n",
       "3       VPVNPEPDATSVENVALCTGSGDSQSDPIKADLEVKGQSALPFDVD...\n",
       "4       VPVNPEPDATSVENVALFTGSGDSQSDPIKADLEVKGQSALPFDVD...\n",
       "                              ...                        \n",
       "2408    VPVNPEPDATSVENVILKTGSGDSQSDPIKADLEVKGQSALPFDVD...\n",
       "2409    VPVNPEPDATSVENVLLKTGSGDSQSDPIKADLEVKGQSALPFDVD...\n",
       "2410    VPVNPEPDATSVENVNLKTGSGDSQSDPIKADLEVKGQSALPFDVD...\n",
       "2411    VPVNPEPDATSVENVPLKTGSGDSQSDPIKADLEVKGQSALPFDVD...\n",
       "2412    VPVNPEPDATSVENVWLKTGSGDSQSDPIKADLEVKGQSALPFDVD...\n",
       "Name: protein_sequence, Length: 2413, dtype: object"
      ]
     },
     "execution_count": 30,
     "metadata": {},
     "output_type": "execute_result"
    }
   ],
   "source": [
    "df['protein_sequence']"
   ]
  },
  {
   "cell_type": "code",
   "execution_count": 52,
   "id": "4ff49593",
   "metadata": {},
   "outputs": [],
   "source": []
  },
  {
   "cell_type": "code",
   "execution_count": 53,
   "id": "67e7bf0b",
   "metadata": {},
   "outputs": [
    {
     "data": {
      "text/plain": [
       "0       VPVNPEPDATSVENVAEKTGSGDSQSDPIKADLEVKGQSALPFDVD...\n",
       "1       VPVNPEPDATSVENVAKKTGSGDSQSDPIKADLEVKGQSALPFDVD...\n",
       "2       VPVNPEPDATSVENVAKTGSGDSQSDPIKADLEVKGQSALPFDVDC...\n",
       "3       VPVNPEPDATSVENVALCTGSGDSQSDPIKADLEVKGQSALPFDVD...\n",
       "4       VPVNPEPDATSVENVALFTGSGDSQSDPIKADLEVKGQSALPFDVD...\n",
       "                              ...                        \n",
       "2408    VPVNPEPDATSVENVILKTGSGDSQSDPIKADLEVKGQSALPFDVD...\n",
       "2409    VPVNPEPDATSVENVLLKTGSGDSQSDPIKADLEVKGQSALPFDVD...\n",
       "2410    VPVNPEPDATSVENVNLKTGSGDSQSDPIKADLEVKGQSALPFDVD...\n",
       "2411    VPVNPEPDATSVENVPLKTGSGDSQSDPIKADLEVKGQSALPFDVD...\n",
       "2412    VPVNPEPDATSVENVWLKTGSGDSQSDPIKADLEVKGQSALPFDVD...\n",
       "Name: protein_sequence, Length: 2413, dtype: object"
      ]
     },
     "execution_count": 53,
     "metadata": {},
     "output_type": "execute_result"
    }
   ],
   "source": [
    "df.protein_sequence\n"
   ]
  },
  {
   "cell_type": "code",
   "execution_count": 55,
   "id": "a6f078d4",
   "metadata": {},
   "outputs": [
    {
     "data": {
      "text/plain": [
       "1"
      ]
     },
     "execution_count": 55,
     "metadata": {},
     "output_type": "execute_result"
    }
   ],
   "source": [
    "levenshtein(df.protein_sequence.iloc[0], original)"
   ]
  },
  {
   "cell_type": "code",
   "execution_count": 56,
   "id": "76326f74",
   "metadata": {},
   "outputs": [
    {
     "data": {
      "text/plain": [
       "'VPVNPEPDATSVENVAEKTGSGDSQSDPIKADLEVKGQSALPFDVDCWAILCKGAPNVLQRVNEKTKNSNRDRSGANKGPFKDPQKWGIKALPPKNPSWSAQDFKSPEEYAFASSLQGGTNAILAPVNLASQNSQGGVLNGFYSANKVAQFDPSKPQQTKGTWFQITKFTGAAGPYCKALGSNDKSVCDKNKNIAGDWGFDPAKWAYQYDEKNNKFNYVGK'"
      ]
     },
     "execution_count": 56,
     "metadata": {},
     "output_type": "execute_result"
    }
   ],
   "source": [
    "df.protein_sequence.iloc[0] #vrode ENVALKT na ENVAEKT"
   ]
  },
  {
   "cell_type": "code",
   "execution_count": 57,
   "id": "9f212e20",
   "metadata": {
    "scrolled": true
   },
   "outputs": [
    {
     "data": {
      "text/plain": [
       "'VPVNPEPDATSVENVALKTGSGDSQSDPIKADLEVKGQSALPFDVDCWAILCKGAPNVLQRVNEKTKNSNRDRSGANKGPFKDPQKWGIKALPPKNPSWSAQDFKSPEEYAFASSLQGGTNAILAPVNLASQNSQGGVLNGFYSANKVAQFDPSKPQQTKGTWFQITKFTGAAGPYCKALGSNDKSVCDKNKNIAGDWGFDPAKWAYQYDEKNNKFNYVGK'"
      ]
     },
     "execution_count": 57,
     "metadata": {},
     "output_type": "execute_result"
    }
   ],
   "source": [
    "\n"
   ]
  },
  {
   "cell_type": "code",
   "execution_count": null,
   "id": "0a06770d",
   "metadata": {},
   "outputs": [],
   "source": []
  },
  {
   "cell_type": "code",
   "execution_count": 48,
   "id": "b8c580b6",
   "metadata": {},
   "outputs": [],
   "source": []
  },
  {
   "cell_type": "code",
   "execution_count": 49,
   "id": "f1d3491e",
   "metadata": {},
   "outputs": [],
   "source": []
  },
  {
   "cell_type": "code",
   "execution_count": null,
   "id": "e6b70059",
   "metadata": {},
   "outputs": [],
   "source": []
  },
  {
   "cell_type": "code",
   "execution_count": 44,
   "id": "6537d45a",
   "metadata": {},
   "outputs": [],
   "source": []
  },
  {
   "cell_type": "code",
   "execution_count": null,
   "id": "0de14f50",
   "metadata": {},
   "outputs": [],
   "source": []
  }
 ],
 "metadata": {
  "kernelspec": {
   "display_name": "Python 3 (ipykernel)",
   "language": "python",
   "name": "python3"
  },
  "language_info": {
   "codemirror_mode": {
    "name": "ipython",
    "version": 3
   },
   "file_extension": ".py",
   "mimetype": "text/x-python",
   "name": "python",
   "nbconvert_exporter": "python",
   "pygments_lexer": "ipython3",
   "version": "3.9.12"
  }
 },
 "nbformat": 4,
 "nbformat_minor": 5
}
